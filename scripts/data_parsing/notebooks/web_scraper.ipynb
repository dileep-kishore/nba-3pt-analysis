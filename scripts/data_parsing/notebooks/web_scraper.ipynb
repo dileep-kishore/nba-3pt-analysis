{
 "cells": [
  {
   "cell_type": "code",
   "execution_count": 3,
   "metadata": {
    "collapsed": true
   },
   "outputs": [],
   "source": [
    "import requests\n",
    "import pandas as pd\n",
    "import numpy as np\n",
    "from bs4 import BeautifulSoup\n",
    "from bs4 import Comment\n",
    "import re"
   ]
  },
  {
   "cell_type": "code",
   "execution_count": null,
   "metadata": {
    "collapsed": false
   },
   "outputs": [],
   "source": [
    "url = 'http://www.basketball-reference.com/leagues/NBA_2016.html'\n",
    "data = requests.get(url).content\n",
    "soup = BeautifulSoup(data, 'html.parser')\n",
    "type(soup)"
   ]
  },
  {
   "cell_type": "code",
   "execution_count": null,
   "metadata": {
    "collapsed": false
   },
   "outputs": [],
   "source": [
    "box_scores = []\n",
    "for tag in soup.find_all(\"div\", id='all_team-stats-per_game'):\n",
    "    rows = []\n",
    "    for i, row in enumerate(tag.find_all(\"tr\")):\n",
    "        if i==0:\n",
    "            newtag=\"th\"\n",
    "        else:\n",
    "            newtag=\"td\"\n",
    "        row_data = [item.get_text() for item in row.find_all(newtag)]\n",
    "        rows.append(row_data)\n",
    "    box_scores.append(rows)"
   ]
  },
  {
   "cell_type": "code",
   "execution_count": null,
   "metadata": {
    "collapsed": false
   },
   "outputs": [],
   "source": [
    "print(tag.find_all(\"div\"))"
   ]
  },
  {
   "cell_type": "code",
   "execution_count": null,
   "metadata": {
    "collapsed": false,
    "scrolled": false
   },
   "outputs": [],
   "source": [
    "html_data = tag.find_all(string=lambda text:isinstance(text,Comment))"
   ]
  },
  {
   "cell_type": "code",
   "execution_count": null,
   "metadata": {
    "collapsed": false
   },
   "outputs": [],
   "source": [
    "headers = re.findall(string=html_data[0], pattern=\"<thead>.*</thead>\", flags=re.DOTALL)[0]\n",
    "data = html_data[0].split(headers)[1]\n",
    "headers = re.findall(string=headers, pattern=\"<th.*</th>\")\n",
    "data = re.findall(string=data, pattern=\"<tr.*</tr>\")\n",
    "data, average_data = data[:-1], data[-1]\n",
    "#Last element is the league average\n",
    "pd_data = []\n",
    "new_head = []\n",
    "for header in headers:\n",
    "    new_head.append(re.findall(string=header, pattern=\"\\\".*?\\\"\")[0][1:-1])\n",
    "new_data = []\n",
    "for row in data:\n",
    "    temp = list(filter(None, re.findall(string=row, pattern=r'>(.*?)<')))\n",
    "    new_data.append([dummy for dummy in temp[1:] if dummy != '*'])"
   ]
  },
  {
   "cell_type": "code",
   "execution_count": null,
   "metadata": {
    "collapsed": false
   },
   "outputs": [],
   "source": [
    "new_data = np.array(new_data)\n",
    "table = pd.DataFrame(new_data, columns=new_head[1:])\n",
    "print(table)"
   ]
  },
  {
   "cell_type": "code",
   "execution_count": null,
   "metadata": {
    "collapsed": false
   },
   "outputs": [],
   "source": [
    "url = 'http://www.basketball-reference.com/leagues/NBA_2017_per_game.html'\n",
    "data = requests.get(url).content\n",
    "soup = BeautifulSoup(data, 'html.parser')\n",
    "data = soup.find_all(\"div\", id='all_per_game_stats')[0]"
   ]
  },
  {
   "cell_type": "code",
   "execution_count": null,
   "metadata": {
    "collapsed": false
   },
   "outputs": [],
   "source": [
    "table_stuff = data.find_all(\"table\", id='per_game_stats')[0]\n",
    "table_head = table_stuff.find('thead')\n",
    "rows = table_head.find_all('tr')\n",
    "for row in rows:\n",
    "    elems = row.find_all('th')\n",
    "    for elem in elems:\n",
    "        curr_elem = elem.find(text=True)\n",
    "        print(curr_elem)"
   ]
  },
  {
   "cell_type": "code",
   "execution_count": null,
   "metadata": {
    "collapsed": false
   },
   "outputs": [],
   "source": [
    "table_body = table_stuff.find_all(\"tbody\")\n",
    "for table_elem in table_body:\n",
    "    rows = table_elem.find_all('tr')\n",
    "    for row in rows:\n",
    "        elems = row.find_all('td')\n",
    "        for elem in elems:\n",
    "            curr_elem = elem.find(text=True)\n",
    "            print(curr_elem)"
   ]
  },
  {
   "cell_type": "code",
   "execution_count": 17,
   "metadata": {
    "collapsed": false
   },
   "outputs": [],
   "source": [
    "url = 'http://www.basketball-reference.com/leagues/NBA_2016.html'\n",
    "data = requests.get(url).content\n",
    "soup = BeautifulSoup(data, 'html.parser')\n",
    "eastern = soup.find_all(\"div\", id='all_confs_standings_E')[0]\n",
    "western = soup.find_all(\"div\", id='all_confs_standings_W')[0]"
   ]
  },
  {
   "cell_type": "code",
   "execution_count": 20,
   "metadata": {
    "collapsed": false
   },
   "outputs": [],
   "source": [
    "eastern_table = eastern.find_all(\"table\", id='confs_standings_E')\n",
    "western_table = western.find_all(\"table\", id='confs_standings_W')"
   ]
  },
  {
   "cell_type": "code",
   "execution_count": 21,
   "metadata": {
    "collapsed": false
   },
   "outputs": [
    {
     "name": "stdout",
     "output_type": "stream",
     "text": [
      "[<table class=\"suppress_all sortable stats_table\" data-cols-to-freeze=\"1\" id=\"confs_standings_W\"><caption>  Table</caption>\n",
      "<colgroup><col><col><col><col><col><col><col><col></col></col></col></col></col></col></col></col></colgroup>\n",
      "<thead>\n",
      "<tr>\n",
      "<th aria-label=\"Western Conference\" class=\" poptip sort_default_asc center\" data-stat=\"team_name\" scope=\"col\">Western Conference</th>\n",
      "<th aria-label=\"Wins\" class=\" poptip right\" data-stat=\"wins\" data-tip=\"Wins\" scope=\"col\">W</th>\n",
      "<th aria-label=\"Losses\" class=\" poptip right\" data-stat=\"losses\" data-tip=\"Losses\" scope=\"col\">L</th>\n",
      "<th aria-label=\"Win-Loss Percentage\" class=\" poptip right\" data-stat=\"win_loss_pct\" data-tip=\"Win-Loss Percentage\" scope=\"col\">W/L%</th>\n",
      "<th aria-label=\"Games Behind\" class=\" poptip sort_default_asc right\" data-stat=\"gb\" data-tip=\"Games Behind\" scope=\"col\">GB</th>\n",
      "<th aria-label=\"Points Per Game\" class=\" poptip right\" data-stat=\"pts_per_g\" data-tip=\"Points Per Game\" scope=\"col\">PS/G</th>\n",
      "<th aria-label=\"Opponent Points Per Game\" class=\" poptip right\" data-stat=\"opp_pts_per_g\" data-tip=\"Opponent Points Per Game\" scope=\"col\">PA/G</th>\n",
      "<th aria-label=\"Simple Rating System\" class=\" poptip right\" data-stat=\"srs\" data-tip=\"Simple Rating System; a team rating that takes into account average point differential and strength of schedule. The rating is denominated in points above/below average, where zero is average.\" scope=\"col\">SRS</th>\n",
      "</tr>\n",
      "</thead>\n",
      "<tbody><tr class=\"full_table\"><th class=\"left \" data-stat=\"team_name\" scope=\"row\"><a href=\"/teams/GSW/2016.html\">Golden State Warriors</a>* <span class=\"seed\">(1) </span></th><td class=\"right \" data-stat=\"wins\">73</td><td class=\"right \" data-stat=\"losses\">9</td><td class=\"right \" data-stat=\"win_loss_pct\">.890</td><td class=\"right \" data-stat=\"gb\">—</td><td class=\"right \" data-stat=\"pts_per_g\">114.9</td><td class=\"right \" data-stat=\"opp_pts_per_g\">104.1</td><td class=\"right \" data-stat=\"srs\">10.38</td></tr>\n",
      "<tr class=\"full_table\"><th class=\"left \" data-stat=\"team_name\" scope=\"row\"><a href=\"/teams/SAS/2016.html\">San Antonio Spurs</a>* <span class=\"seed\">(2) </span></th><td class=\"right \" data-stat=\"wins\">67</td><td class=\"right \" data-stat=\"losses\">15</td><td class=\"right \" data-stat=\"win_loss_pct\">.817</td><td class=\"right \" data-stat=\"gb\">6.0</td><td class=\"right \" data-stat=\"pts_per_g\">103.5</td><td class=\"right \" data-stat=\"opp_pts_per_g\">92.9</td><td class=\"right \" data-stat=\"srs\">10.28</td></tr>\n",
      "<tr class=\"full_table\"><th class=\"left \" data-stat=\"team_name\" scope=\"row\"><a href=\"/teams/OKC/2016.html\">Oklahoma City Thunder</a>* <span class=\"seed\">(3) </span></th><td class=\"right \" data-stat=\"wins\">55</td><td class=\"right \" data-stat=\"losses\">27</td><td class=\"right \" data-stat=\"win_loss_pct\">.671</td><td class=\"right \" data-stat=\"gb\">18.0</td><td class=\"right \" data-stat=\"pts_per_g\">110.2</td><td class=\"right \" data-stat=\"opp_pts_per_g\">102.9</td><td class=\"right \" data-stat=\"srs\">7.09</td></tr>\n",
      "<tr class=\"full_table\"><th class=\"left \" data-stat=\"team_name\" scope=\"row\"><a href=\"/teams/LAC/2016.html\">Los Angeles Clippers</a>* <span class=\"seed\">(4) </span></th><td class=\"right \" data-stat=\"wins\">53</td><td class=\"right \" data-stat=\"losses\">29</td><td class=\"right \" data-stat=\"win_loss_pct\">.646</td><td class=\"right \" data-stat=\"gb\">20.0</td><td class=\"right \" data-stat=\"pts_per_g\">104.5</td><td class=\"right \" data-stat=\"opp_pts_per_g\">100.2</td><td class=\"right \" data-stat=\"srs\">4.13</td></tr>\n",
      "<tr class=\"full_table\"><th class=\"left \" data-stat=\"team_name\" scope=\"row\"><a href=\"/teams/POR/2016.html\">Portland Trail Blazers</a>* <span class=\"seed\">(5) </span></th><td class=\"right \" data-stat=\"wins\">44</td><td class=\"right \" data-stat=\"losses\">38</td><td class=\"right \" data-stat=\"win_loss_pct\">.537</td><td class=\"right \" data-stat=\"gb\">29.0</td><td class=\"right \" data-stat=\"pts_per_g\">105.1</td><td class=\"right \" data-stat=\"opp_pts_per_g\">104.3</td><td class=\"right \" data-stat=\"srs\">0.98</td></tr>\n",
      "<tr class=\"full_table\"><th class=\"left \" data-stat=\"team_name\" scope=\"row\"><a href=\"/teams/DAL/2016.html\">Dallas Mavericks</a>* <span class=\"seed\">(6) </span></th><td class=\"right \" data-stat=\"wins\">42</td><td class=\"right \" data-stat=\"losses\">40</td><td class=\"right \" data-stat=\"win_loss_pct\">.512</td><td class=\"right \" data-stat=\"gb\">31.0</td><td class=\"right \" data-stat=\"pts_per_g\">102.3</td><td class=\"right \" data-stat=\"opp_pts_per_g\">102.6</td><td class=\"right \" data-stat=\"srs\">-0.02</td></tr>\n",
      "<tr class=\"full_table\"><th class=\"left \" data-stat=\"team_name\" scope=\"row\"><a href=\"/teams/MEM/2016.html\">Memphis Grizzlies</a>* <span class=\"seed\">(7) </span></th><td class=\"right \" data-stat=\"wins\">42</td><td class=\"right \" data-stat=\"losses\">40</td><td class=\"right \" data-stat=\"win_loss_pct\">.512</td><td class=\"right \" data-stat=\"gb\">31.0</td><td class=\"right \" data-stat=\"pts_per_g\">99.1</td><td class=\"right \" data-stat=\"opp_pts_per_g\">101.3</td><td class=\"right \" data-stat=\"srs\">-2.14</td></tr>\n",
      "<tr class=\"full_table\"><th class=\"left \" data-stat=\"team_name\" scope=\"row\"><a href=\"/teams/HOU/2016.html\">Houston Rockets</a>* <span class=\"seed\">(8) </span></th><td class=\"right \" data-stat=\"wins\">41</td><td class=\"right \" data-stat=\"losses\">41</td><td class=\"right \" data-stat=\"win_loss_pct\">.500</td><td class=\"right \" data-stat=\"gb\">32.0</td><td class=\"right \" data-stat=\"pts_per_g\">106.5</td><td class=\"right \" data-stat=\"opp_pts_per_g\">106.4</td><td class=\"right \" data-stat=\"srs\">0.34</td></tr>\n",
      "<tr class=\"full_table\"><th class=\"left \" data-stat=\"team_name\" scope=\"row\"><a href=\"/teams/UTA/2016.html\">Utah Jazz</a> <span class=\"seed\">(9) </span></th><td class=\"right \" data-stat=\"wins\">40</td><td class=\"right \" data-stat=\"losses\">42</td><td class=\"right \" data-stat=\"win_loss_pct\">.488</td><td class=\"right \" data-stat=\"gb\">33.0</td><td class=\"right \" data-stat=\"pts_per_g\">97.7</td><td class=\"right \" data-stat=\"opp_pts_per_g\">95.9</td><td class=\"right \" data-stat=\"srs\">1.84</td></tr>\n",
      "<tr class=\"full_table\"><th class=\"left \" data-stat=\"team_name\" scope=\"row\"><a href=\"/teams/SAC/2016.html\">Sacramento Kings</a> <span class=\"seed\">(10) </span></th><td class=\"right \" data-stat=\"wins\">33</td><td class=\"right \" data-stat=\"losses\">49</td><td class=\"right \" data-stat=\"win_loss_pct\">.402</td><td class=\"right \" data-stat=\"gb\">40.0</td><td class=\"right \" data-stat=\"pts_per_g\">106.6</td><td class=\"right \" data-stat=\"opp_pts_per_g\">109.1</td><td class=\"right \" data-stat=\"srs\">-2.32</td></tr>\n",
      "<tr class=\"full_table\"><th class=\"left \" data-stat=\"team_name\" scope=\"row\"><a href=\"/teams/DEN/2016.html\">Denver Nuggets</a> <span class=\"seed\">(10) </span></th><td class=\"right \" data-stat=\"wins\">33</td><td class=\"right \" data-stat=\"losses\">49</td><td class=\"right \" data-stat=\"win_loss_pct\">.402</td><td class=\"right \" data-stat=\"gb\">40.0</td><td class=\"right \" data-stat=\"pts_per_g\">101.9</td><td class=\"right \" data-stat=\"opp_pts_per_g\">105.0</td><td class=\"right \" data-stat=\"srs\">-2.81</td></tr>\n",
      "<tr class=\"full_table\"><th class=\"left \" data-stat=\"team_name\" scope=\"row\"><a href=\"/teams/NOP/2016.html\">New Orleans Pelicans</a> <span class=\"seed\">(12) </span></th><td class=\"right \" data-stat=\"wins\">30</td><td class=\"right \" data-stat=\"losses\">52</td><td class=\"right \" data-stat=\"win_loss_pct\">.366</td><td class=\"right \" data-stat=\"gb\">43.0</td><td class=\"right \" data-stat=\"pts_per_g\">102.7</td><td class=\"right \" data-stat=\"opp_pts_per_g\">106.5</td><td class=\"right \" data-stat=\"srs\">-3.56</td></tr>\n",
      "<tr class=\"full_table\"><th class=\"left \" data-stat=\"team_name\" scope=\"row\"><a href=\"/teams/MIN/2016.html\">Minnesota Timberwolves</a> <span class=\"seed\">(13) </span></th><td class=\"right \" data-stat=\"wins\">29</td><td class=\"right \" data-stat=\"losses\">53</td><td class=\"right \" data-stat=\"win_loss_pct\">.354</td><td class=\"right \" data-stat=\"gb\">44.0</td><td class=\"right \" data-stat=\"pts_per_g\">102.4</td><td class=\"right \" data-stat=\"opp_pts_per_g\">106.0</td><td class=\"right \" data-stat=\"srs\">-3.38</td></tr>\n",
      "<tr class=\"full_table\"><th class=\"left \" data-stat=\"team_name\" scope=\"row\"><a href=\"/teams/PHO/2016.html\">Phoenix Suns</a> <span class=\"seed\">(14) </span></th><td class=\"right \" data-stat=\"wins\">23</td><td class=\"right \" data-stat=\"losses\">59</td><td class=\"right \" data-stat=\"win_loss_pct\">.280</td><td class=\"right \" data-stat=\"gb\">50.0</td><td class=\"right \" data-stat=\"pts_per_g\">100.9</td><td class=\"right \" data-stat=\"opp_pts_per_g\">107.5</td><td class=\"right \" data-stat=\"srs\">-6.32</td></tr>\n",
      "<tr class=\"full_table\"><th class=\"left \" data-stat=\"team_name\" scope=\"row\"><a href=\"/teams/LAL/2016.html\">Los Angeles Lakers</a> <span class=\"seed\">(15) </span></th><td class=\"right \" data-stat=\"wins\">17</td><td class=\"right \" data-stat=\"losses\">65</td><td class=\"right \" data-stat=\"win_loss_pct\">.207</td><td class=\"right \" data-stat=\"gb\">56.0</td><td class=\"right \" data-stat=\"pts_per_g\">97.3</td><td class=\"right \" data-stat=\"opp_pts_per_g\">106.9</td><td class=\"right \" data-stat=\"srs\">-8.92</td></tr>\n",
      "</tbody></table>]\n"
     ]
    }
   ],
   "source": [
    "print(western_table)"
   ]
  },
  {
   "cell_type": "code",
   "execution_count": null,
   "metadata": {
    "collapsed": true
   },
   "outputs": [],
   "source": []
  }
 ],
 "metadata": {
  "kernelspec": {
   "display_name": "Python 3",
   "language": "python",
   "name": "python3"
  },
  "language_info": {
   "codemirror_mode": {
    "name": "ipython",
    "version": 3
   },
   "file_extension": ".py",
   "mimetype": "text/x-python",
   "name": "python",
   "nbconvert_exporter": "python",
   "pygments_lexer": "ipython3",
   "version": "3.5.2"
  }
 },
 "nbformat": 4,
 "nbformat_minor": 1
}
