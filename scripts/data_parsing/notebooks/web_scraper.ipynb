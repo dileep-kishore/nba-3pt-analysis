{
 "cells": [
  {
   "cell_type": "code",
   "execution_count": 3,
   "metadata": {
    "collapsed": true
   },
   "outputs": [],
   "source": [
    "import requests\n",
    "import pandas as pd\n",
    "import numpy as np\n",
    "from bs4 import BeautifulSoup\n",
    "from bs4 import Comment\n",
    "import re"
   ]
  },
  {
   "cell_type": "code",
   "execution_count": null,
   "metadata": {
    "collapsed": false
   },
   "outputs": [],
   "source": [
    "url = 'http://www.basketball-reference.com/leagues/NBA_2016.html'\n",
    "data = requests.get(url).content\n",
    "soup = BeautifulSoup(data, 'html.parser')\n",
    "type(soup)"
   ]
  },
  {
   "cell_type": "code",
   "execution_count": null,
   "metadata": {
    "collapsed": false
   },
   "outputs": [],
   "source": [
    "box_scores = []\n",
    "for tag in soup.find_all(\"div\", id='all_team-stats-per_game'):\n",
    "    rows = []\n",
    "    for i, row in enumerate(tag.find_all(\"tr\")):\n",
    "        if i==0:\n",
    "            newtag=\"th\"\n",
    "        else:\n",
    "            newtag=\"td\"\n",
    "        row_data = [item.get_text() for item in row.find_all(newtag)]\n",
    "        rows.append(row_data)\n",
    "    box_scores.append(rows)"
   ]
  },
  {
   "cell_type": "code",
   "execution_count": null,
   "metadata": {
    "collapsed": false
   },
   "outputs": [],
   "source": [
    "print(tag.find_all(\"div\"))"
   ]
  },
  {
   "cell_type": "code",
   "execution_count": null,
   "metadata": {
    "collapsed": false,
    "scrolled": false
   },
   "outputs": [],
   "source": [
    "html_data = tag.find_all(string=lambda text:isinstance(text,Comment))"
   ]
  },
  {
   "cell_type": "code",
   "execution_count": null,
   "metadata": {
    "collapsed": false
   },
   "outputs": [],
   "source": [
    "headers = re.findall(string=html_data[0], pattern=\"<thead>.*</thead>\", flags=re.DOTALL)[0]\n",
    "data = html_data[0].split(headers)[1]\n",
    "headers = re.findall(string=headers, pattern=\"<th.*</th>\")\n",
    "data = re.findall(string=data, pattern=\"<tr.*</tr>\")\n",
    "data, average_data = data[:-1], data[-1]\n",
    "#Last element is the league average\n",
    "pd_data = []\n",
    "new_head = []\n",
    "for header in headers:\n",
    "    new_head.append(re.findall(string=header, pattern=\"\\\".*?\\\"\")[0][1:-1])\n",
    "new_data = []\n",
    "for row in data:\n",
    "    temp = list(filter(None, re.findall(string=row, pattern=r'>(.*?)<')))\n",
    "    new_data.append([dummy for dummy in temp[1:] if dummy != '*'])"
   ]
  },
  {
   "cell_type": "code",
   "execution_count": null,
   "metadata": {
    "collapsed": false
   },
   "outputs": [],
   "source": [
    "new_data = np.array(new_data)\n",
    "table = pd.DataFrame(new_data, columns=new_head[1:])\n",
    "print(table)"
   ]
  },
  {
   "cell_type": "code",
   "execution_count": null,
   "metadata": {
    "collapsed": false
   },
   "outputs": [],
   "source": [
    "url = 'http://www.basketball-reference.com/leagues/NBA_2017_per_game.html'\n",
    "data = requests.get(url).content\n",
    "soup = BeautifulSoup(data, 'html.parser')\n",
    "data = soup.find_all(\"div\", id='all_per_game_stats')[0]"
   ]
  },
  {
   "cell_type": "code",
   "execution_count": null,
   "metadata": {
    "collapsed": false
   },
   "outputs": [],
   "source": [
    "table_stuff = data.find_all(\"table\", id='per_game_stats')[0]\n",
    "table_head = table_stuff.find('thead')\n",
    "rows = table_head.find_all('tr')\n",
    "for row in rows:\n",
    "    elems = row.find_all('th')\n",
    "    for elem in elems:\n",
    "        curr_elem = elem.find(text=True)\n",
    "        print(curr_elem)"
   ]
  },
  {
   "cell_type": "code",
   "execution_count": null,
   "metadata": {
    "collapsed": false
   },
   "outputs": [],
   "source": [
    "table_body = table_stuff.find_all(\"tbody\")\n",
    "for table_elem in table_body:\n",
    "    rows = table_elem.find_all('tr')\n",
    "    for row in rows:\n",
    "        elems = row.find_all('td')\n",
    "        for elem in elems:\n",
    "            curr_elem = elem.find(text=True)\n",
    "            print(curr_elem)"
   ]
  },
  {
   "cell_type": "code",
   "execution_count": 38,
   "metadata": {
    "collapsed": false
   },
   "outputs": [],
   "source": [
    "url = 'http://www.basketball-reference.com/leagues/NBA_2016.html'\n",
    "data = requests.get(url).content\n",
    "soup = BeautifulSoup(data, 'html.parser')\n",
    "eastern = soup.find_all(\"div\", id='all_divs_standings_E')[0]\n",
    "western = soup.find_all(\"div\", id='all_divs_standings_W')[0]"
   ]
  },
  {
   "cell_type": "code",
   "execution_count": 39,
   "metadata": {
    "collapsed": false
   },
   "outputs": [],
   "source": [
    "eastern_table = eastern.find_all(\"table\", id='divs_standings_E')[0]\n",
    "western_table = western.find_all(\"table\", id='divs_standings_W')[0]"
   ]
  },
  {
   "cell_type": "code",
   "execution_count": 41,
   "metadata": {
    "collapsed": false
   },
   "outputs": [
    {
     "name": "stdout",
     "output_type": "stream",
     "text": [
      "Eastern Conference\n",
      "W\n",
      "L\n",
      "W/L%\n",
      "GB\n",
      "PS/G\n",
      "PA/G\n",
      "SRS\n"
     ]
    }
   ],
   "source": [
    "table_head = eastern_table.find('thead')\n",
    "rows = table_head.find_all('tr')\n",
    "for row in rows:\n",
    "    elems = row.find_all('th')\n",
    "    for elem in elems:\n",
    "        curr_elem = elem.find(text=True)\n",
    "        print(curr_elem)"
   ]
  },
  {
   "cell_type": "code",
   "execution_count": 56,
   "metadata": {
    "collapsed": false
   },
   "outputs": [
    {
     "name": "stdout",
     "output_type": "stream",
     "text": [
      "Toronto Raptors\n",
      "56\n",
      "26\n",
      ".683\n",
      "—\n",
      "102.7\n",
      "98.2\n",
      "4.08\n",
      "Boston Celtics\n",
      "48\n",
      "34\n",
      ".585\n",
      "8.0\n",
      "105.7\n",
      "102.5\n",
      "2.84\n",
      "New York Knicks\n",
      "32\n",
      "50\n",
      ".390\n",
      "24.0\n",
      "98.4\n",
      "101.1\n",
      "-2.74\n",
      "Brooklyn Nets\n",
      "21\n",
      "61\n",
      ".256\n",
      "35.0\n",
      "98.6\n",
      "106.0\n",
      "-7.12\n",
      "Philadelphia 76ers\n",
      "10\n",
      "72\n",
      ".122\n",
      "46.0\n",
      "97.4\n",
      "107.6\n",
      "-9.92\n",
      "Cleveland Cavaliers\n",
      "57\n",
      "25\n",
      ".695\n",
      "—\n",
      "104.3\n",
      "98.3\n",
      "5.45\n",
      "Indiana Pacers\n",
      "45\n",
      "37\n",
      ".549\n",
      "12.0\n",
      "102.2\n",
      "100.5\n",
      "1.62\n",
      "Detroit Pistons\n",
      "44\n",
      "38\n",
      ".537\n",
      "13.0\n",
      "102.0\n",
      "101.4\n",
      "0.43\n",
      "Chicago Bulls\n",
      "42\n",
      "40\n",
      ".512\n",
      "15.0\n",
      "101.6\n",
      "103.1\n",
      "-1.46\n",
      "Milwaukee Bucks\n",
      "33\n",
      "49\n",
      ".402\n",
      "24.0\n",
      "99.0\n",
      "103.2\n",
      "-3.98\n",
      "Miami Heat\n",
      "48\n",
      "34\n",
      ".585\n",
      "—\n",
      "100.0\n",
      "98.4\n",
      "1.50\n",
      "Atlanta Hawks\n",
      "48\n",
      "34\n",
      ".585\n",
      "—\n",
      "102.8\n",
      "99.2\n",
      "3.49\n",
      "Charlotte Hornets\n",
      "48\n",
      "34\n",
      ".585\n",
      "—\n",
      "103.4\n",
      "100.7\n",
      "2.36\n",
      "Washington Wizards\n",
      "41\n",
      "41\n",
      ".500\n",
      "7.0\n",
      "104.1\n",
      "104.6\n",
      "-0.50\n",
      "Orlando Magic\n",
      "35\n",
      "47\n",
      ".427\n",
      "13.0\n",
      "102.1\n",
      "103.7\n",
      "-1.68\n"
     ]
    }
   ],
   "source": [
    "table_body = eastern_table.find_all(\"tbody\")\n",
    "for table_elem in table_body:\n",
    "    rows = table_elem.find_all('tr')\n",
    "    for row in rows:\n",
    "        a = row.find_all('th')[0]\n",
    "        b = a.find_all('a', href=True)\n",
    "        if b != []:\n",
    "            print(b[0].find(text=True))\n",
    "        elems = row.find_all('td')\n",
    "        for elem in elems:\n",
    "            curr_elem = elem.find(text=True)\n",
    "            print(curr_elem)"
   ]
  },
  {
   "cell_type": "code",
   "execution_count": null,
   "metadata": {
    "collapsed": true
   },
   "outputs": [],
   "source": []
  }
 ],
 "metadata": {
  "kernelspec": {
   "display_name": "Python 3",
   "language": "python",
   "name": "python3"
  },
  "language_info": {
   "codemirror_mode": {
    "name": "ipython",
    "version": 3
   },
   "file_extension": ".py",
   "mimetype": "text/x-python",
   "name": "python",
   "nbconvert_exporter": "python",
   "pygments_lexer": "ipython3",
   "version": "3.5.2"
  }
 },
 "nbformat": 4,
 "nbformat_minor": 1
}
